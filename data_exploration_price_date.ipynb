{
 "cells": [
  {
   "cell_type": "code",
   "execution_count": 6,
   "id": "initial_id",
   "metadata": {
    "collapsed": true,
    "ExecuteTime": {
     "end_time": "2023-10-20T08:13:53.077232700Z",
     "start_time": "2023-10-20T08:13:53.054296Z"
    }
   },
   "outputs": [],
   "source": [
    "import pandas as pd"
   ]
  },
  {
   "cell_type": "code",
   "execution_count": 8,
   "outputs": [],
   "source": [
    "df = pd.read_csv(r\"C:\\Users\\timot\\Documents\\Python\\DataViz\\prix-carburants-fichier-instantane-test-ods-copie.csv\", sep=';', encoding='utf-8', low_memory=False,  on_bad_lines='skip')"
   ],
   "metadata": {
    "collapsed": false,
    "ExecuteTime": {
     "end_time": "2023-10-20T08:14:06.003898400Z",
     "start_time": "2023-10-20T08:14:05.674715Z"
    }
   },
   "id": "154d6a47869892de"
  },
  {
   "cell_type": "code",
   "execution_count": 9,
   "outputs": [
    {
     "data": {
      "text/plain": "         id     cp pop                   adresse                      ville  \\\n0  13240002  13240   R   38 avenue du 8 mai 1945       Septèmes-les-Vallons   \n1  25115001  25115   R          Z.A. les Salines        Pouilley-les-Vignes   \n2  44230004  44230   R  5 Rue du Lieutenant Auge  SAINT-SéBASTIEN-SUR-LOIRE   \n3  50890001  50890   R           10 RUE ARGANCHY             CONDé-SUR-VIRE   \n4   1160002   1160   R   Le Pont Rompu - RD 1084                 PONT-D'AIN   \n\n                                            horaires  \\\n0  {\"@automate-24-24\": \"\", \"jour\": [{\"@id\": \"1\", ...   \n1  {\"@automate-24-24\": \"1\", \"jour\": [{\"@id\": \"1\",...   \n2  {\"@automate-24-24\": \"\", \"jour\": [{\"@id\": \"1\", ...   \n3  {\"@automate-24-24\": \"\", \"jour\": [{\"@id\": \"1\", ...   \n4                                                NaN   \n\n                                   geom                   prix_maj  prix_id  \\\n0                          43.393,5.364  2023-10-16T14:41:23+02:00      2.0   \n1                          47.258,5.927  2023-10-13T10:35:04+02:00      6.0   \n2                         47.199,-1.519  2023-10-16T19:28:30+02:00      5.0   \n3                          49.058,-1.03  2023-10-14T11:11:32+02:00      2.0   \n4  46.040209749999995,5.342318440000001  2023-10-20T10:00:00+02:00      5.0   \n\n   prix_valeur  ...    epci_code                           epci_name dep_code  \\\n0        1.962  ...  200054807.0  Métropole d'Aix-Marseille-Provence       13   \n1        1.879  ...  242500361.0         CU Grand Besançon Métropole       25   \n2        1.769  ...  244400404.0                    Nantes Métropole       44   \n3        1.879  ...  200066389.0                   CA Saint-Lô Agglo       50   \n4        1.810  ...  200029999.0  CC Rives de l'Ain - Pays du Cerdon       01   \n\n           dep_name reg_code                    reg_name com_code  \\\n0  Bouches-du-Rhône     93.0  Provence-Alpes-Côte d'Azur    13106   \n1             Doubs     27.0     Bourgogne-Franche-Comté    25467   \n2  Loire-Atlantique     52.0            Pays de la Loire    44190   \n3            Manche     28.0                   Normandie    50139   \n4               Ain     84.0        Auvergne-Rhône-Alpes    01304   \n\n                    com_name  \\\n0       Septèmes-les-Vallons   \n1        Pouilley-les-Vignes   \n2  Saint-Sébastien-sur-Loire   \n3             Condé-sur-Vire   \n4                 Pont-d'Ain   \n\n                                    services_service horaires_automate_24_24  \n0  Relais colis//Boutique alimentaire//Station de...                     Non  \n1  Station de gonflage//Piste poids lourds//Lavag...                     Oui  \n2  Boutique alimentaire//Station de gonflage//Lav...                     Non  \n3  Laverie//Boutique alimentaire//Station de gonf...                     Non  \n4  Toilettes publiques//Laverie//Relais colis//Bo...                     Non  \n\n[5 rows x 23 columns]",
      "text/html": "<div>\n<style scoped>\n    .dataframe tbody tr th:only-of-type {\n        vertical-align: middle;\n    }\n\n    .dataframe tbody tr th {\n        vertical-align: top;\n    }\n\n    .dataframe thead th {\n        text-align: right;\n    }\n</style>\n<table border=\"1\" class=\"dataframe\">\n  <thead>\n    <tr style=\"text-align: right;\">\n      <th></th>\n      <th>id</th>\n      <th>cp</th>\n      <th>pop</th>\n      <th>adresse</th>\n      <th>ville</th>\n      <th>horaires</th>\n      <th>geom</th>\n      <th>prix_maj</th>\n      <th>prix_id</th>\n      <th>prix_valeur</th>\n      <th>...</th>\n      <th>epci_code</th>\n      <th>epci_name</th>\n      <th>dep_code</th>\n      <th>dep_name</th>\n      <th>reg_code</th>\n      <th>reg_name</th>\n      <th>com_code</th>\n      <th>com_name</th>\n      <th>services_service</th>\n      <th>horaires_automate_24_24</th>\n    </tr>\n  </thead>\n  <tbody>\n    <tr>\n      <th>0</th>\n      <td>13240002</td>\n      <td>13240</td>\n      <td>R</td>\n      <td>38 avenue du 8 mai 1945</td>\n      <td>Septèmes-les-Vallons</td>\n      <td>{\"@automate-24-24\": \"\", \"jour\": [{\"@id\": \"1\", ...</td>\n      <td>43.393,5.364</td>\n      <td>2023-10-16T14:41:23+02:00</td>\n      <td>2.0</td>\n      <td>1.962</td>\n      <td>...</td>\n      <td>200054807.0</td>\n      <td>Métropole d'Aix-Marseille-Provence</td>\n      <td>13</td>\n      <td>Bouches-du-Rhône</td>\n      <td>93.0</td>\n      <td>Provence-Alpes-Côte d'Azur</td>\n      <td>13106</td>\n      <td>Septèmes-les-Vallons</td>\n      <td>Relais colis//Boutique alimentaire//Station de...</td>\n      <td>Non</td>\n    </tr>\n    <tr>\n      <th>1</th>\n      <td>25115001</td>\n      <td>25115</td>\n      <td>R</td>\n      <td>Z.A. les Salines</td>\n      <td>Pouilley-les-Vignes</td>\n      <td>{\"@automate-24-24\": \"1\", \"jour\": [{\"@id\": \"1\",...</td>\n      <td>47.258,5.927</td>\n      <td>2023-10-13T10:35:04+02:00</td>\n      <td>6.0</td>\n      <td>1.879</td>\n      <td>...</td>\n      <td>242500361.0</td>\n      <td>CU Grand Besançon Métropole</td>\n      <td>25</td>\n      <td>Doubs</td>\n      <td>27.0</td>\n      <td>Bourgogne-Franche-Comté</td>\n      <td>25467</td>\n      <td>Pouilley-les-Vignes</td>\n      <td>Station de gonflage//Piste poids lourds//Lavag...</td>\n      <td>Oui</td>\n    </tr>\n    <tr>\n      <th>2</th>\n      <td>44230004</td>\n      <td>44230</td>\n      <td>R</td>\n      <td>5 Rue du Lieutenant Auge</td>\n      <td>SAINT-SéBASTIEN-SUR-LOIRE</td>\n      <td>{\"@automate-24-24\": \"\", \"jour\": [{\"@id\": \"1\", ...</td>\n      <td>47.199,-1.519</td>\n      <td>2023-10-16T19:28:30+02:00</td>\n      <td>5.0</td>\n      <td>1.769</td>\n      <td>...</td>\n      <td>244400404.0</td>\n      <td>Nantes Métropole</td>\n      <td>44</td>\n      <td>Loire-Atlantique</td>\n      <td>52.0</td>\n      <td>Pays de la Loire</td>\n      <td>44190</td>\n      <td>Saint-Sébastien-sur-Loire</td>\n      <td>Boutique alimentaire//Station de gonflage//Lav...</td>\n      <td>Non</td>\n    </tr>\n    <tr>\n      <th>3</th>\n      <td>50890001</td>\n      <td>50890</td>\n      <td>R</td>\n      <td>10 RUE ARGANCHY</td>\n      <td>CONDé-SUR-VIRE</td>\n      <td>{\"@automate-24-24\": \"\", \"jour\": [{\"@id\": \"1\", ...</td>\n      <td>49.058,-1.03</td>\n      <td>2023-10-14T11:11:32+02:00</td>\n      <td>2.0</td>\n      <td>1.879</td>\n      <td>...</td>\n      <td>200066389.0</td>\n      <td>CA Saint-Lô Agglo</td>\n      <td>50</td>\n      <td>Manche</td>\n      <td>28.0</td>\n      <td>Normandie</td>\n      <td>50139</td>\n      <td>Condé-sur-Vire</td>\n      <td>Laverie//Boutique alimentaire//Station de gonf...</td>\n      <td>Non</td>\n    </tr>\n    <tr>\n      <th>4</th>\n      <td>1160002</td>\n      <td>1160</td>\n      <td>R</td>\n      <td>Le Pont Rompu - RD 1084</td>\n      <td>PONT-D'AIN</td>\n      <td>NaN</td>\n      <td>46.040209749999995,5.342318440000001</td>\n      <td>2023-10-20T10:00:00+02:00</td>\n      <td>5.0</td>\n      <td>1.810</td>\n      <td>...</td>\n      <td>200029999.0</td>\n      <td>CC Rives de l'Ain - Pays du Cerdon</td>\n      <td>01</td>\n      <td>Ain</td>\n      <td>84.0</td>\n      <td>Auvergne-Rhône-Alpes</td>\n      <td>01304</td>\n      <td>Pont-d'Ain</td>\n      <td>Toilettes publiques//Laverie//Relais colis//Bo...</td>\n      <td>Non</td>\n    </tr>\n  </tbody>\n</table>\n<p>5 rows × 23 columns</p>\n</div>"
     },
     "execution_count": 9,
     "metadata": {},
     "output_type": "execute_result"
    }
   ],
   "source": [
    "df.head(5)"
   ],
   "metadata": {
    "collapsed": false,
    "ExecuteTime": {
     "end_time": "2023-10-20T08:14:07.607400200Z",
     "start_time": "2023-10-20T08:14:07.552562800Z"
    }
   },
   "id": "218c60dc92590168"
  },
  {
   "cell_type": "code",
   "execution_count": null,
   "outputs": [],
   "source": [],
   "metadata": {
    "collapsed": false
   },
   "id": "b8e46b0145482e95"
  }
 ],
 "metadata": {
  "kernelspec": {
   "display_name": "Python 3",
   "language": "python",
   "name": "python3"
  },
  "language_info": {
   "codemirror_mode": {
    "name": "ipython",
    "version": 2
   },
   "file_extension": ".py",
   "mimetype": "text/x-python",
   "name": "python",
   "nbconvert_exporter": "python",
   "pygments_lexer": "ipython2",
   "version": "2.7.6"
  }
 },
 "nbformat": 4,
 "nbformat_minor": 5
}
